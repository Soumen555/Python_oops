{
  "nbformat": 4,
  "nbformat_minor": 0,
  "metadata": {
    "colab": {
      "provenance": []
    },
    "kernelspec": {
      "name": "python3",
      "display_name": "Python 3"
    },
    "language_info": {
      "name": "python"
    }
  },
  "cells": [
    {
      "cell_type": "markdown",
      "source": [
        "**Python OOPs Questions**"
      ],
      "metadata": {
        "id": "NKN8fRUedAFu"
      }
    },
    {
      "cell_type": "markdown",
      "source": [
        "Q1. What is Object-Oriented Programming (OOP) ?\n",
        "- Object-Oriented Programming (OOP) is a way of writing code where we use objects. we make a class that is the blueprint of creating an object , then we create objects of that class."
      ],
      "metadata": {
        "id": "Unn9KUs-dMEH"
      }
    },
    {
      "cell_type": "markdown",
      "source": [
        "Q2. What is a class in OOP ?\n",
        "- A class in OOP is like a blueprint or template for creating objects.\n",
        "It defines what an object will have (attributes) and what it can do (methods)."
      ],
      "metadata": {
        "id": "BWCChDfcedFT"
      }
    },
    {
      "cell_type": "markdown",
      "source": [
        "Q3. What is an object in OOP ?\n",
        "- An object in OOP is a real thing created from a class.\n",
        "If a class is the blueprint, the object is the actual product built from that blueprint.\n"
      ],
      "metadata": {
        "id": "4Su4Eg2Ie1g0"
      }
    },
    {
      "cell_type": "markdown",
      "source": [
        "Q4. What is the difference between abstraction and encapsulation ?\n",
        "- Abstraction → Focus on what an object does, not how it does it. It hides implementation details, shows only the necessary part.\n",
        "\n",
        "- Encapsulation → Focus on how data and methods are bundled together inside a class. It protects data by restricting direct access."
      ],
      "metadata": {
        "id": "WUWxfKU8fIY5"
      }
    },
    {
      "cell_type": "markdown",
      "source": [
        "Q5. What are dunder methods in Python ?\n",
        "- Dunder methods (double underscore methods) are special built-in methods in Python that start and end with __ (double underscores).\n",
        "\n",
        "They let us customize how objects of your class behave with Python’s built-in operations.\n",
        "They are also called magic methods."
      ],
      "metadata": {
        "id": "gMFpA__-fi-s"
      }
    },
    {
      "cell_type": "markdown",
      "source": [
        "Q6. Explain the concept of inheritance in OOP .\n",
        "- Inheritance in OOP means one class (child class) can use the properties and methods of another class (parent class).\n",
        "\n",
        "\n",
        "It promotes code reusability and hepls in extending existing classes with new features."
      ],
      "metadata": {
        "id": "yvpwDjaVf6Wz"
      }
    },
    {
      "cell_type": "markdown",
      "source": [
        "Q7. What is polymorphism in OOP ?\n",
        "- Poly means many and morphism means forms/states. polymorphism reffers to an object taking several forms depending on the methods/data."
      ],
      "metadata": {
        "id": "cPKVyvMTgefJ"
      }
    },
    {
      "cell_type": "markdown",
      "source": [
        "Q8. How is encapsulation achieved in Python ?\n",
        "- Encapsulation in Python means hiding the internal details of a class and only exposing what is necessary.\n",
        "It is mainly achieved using access modifiers and methods to control access to data.\n",
        "\n",
        "- Public members → accessible from anywhere.\n",
        "\n",
        "- Protected members (_variable) → a hint that it should not be accessed directly (still accessible).\n",
        "\n",
        "- Private members (__variable) → cannot be accessed directly outside the class."
      ],
      "metadata": {
        "id": "AYg_Qd3qhBoH"
      }
    },
    {
      "cell_type": "markdown",
      "source": [
        "Q9.  What is a constructor in Python ?\n",
        "- A constructor in Python is a special method used to initialize an object when it is created from a class.\n",
        "\n",
        "In Python, the constructor method is always named __init__.\n",
        "\n",
        "It runs automatically when you create an object.\n",
        "\n",
        "It is mainly used to set the initial values (attributes) of the object."
      ],
      "metadata": {
        "id": "yM87anDbhdy_"
      }
    },
    {
      "cell_type": "markdown",
      "source": [
        "Q10.  What are class and static methods in Python ?\n",
        "- **Class Method**\n",
        "\n",
        "Defined using @classmethod.\n",
        "\n",
        "First parameter is always cls (refers to the class, not the object).\n",
        "\n",
        "Can access and modify class-level variables, but not instance variables directly.\n",
        "\n",
        "- **Static Method**\n",
        "\n",
        "Defined using @staticmethod.\n",
        "\n",
        "Does not take self or cls as the first argument.\n",
        "\n",
        "Works like a normal function, but it belongs to the class’s namespace.\n",
        "\n",
        "Used when the method is related to the class but doesn’t need object or class data."
      ],
      "metadata": {
        "id": "Dc_YJzROhtnO"
      }
    },
    {
      "cell_type": "markdown",
      "source": [
        "Q11. What is method overloading in Python ?\n",
        "- Method overloading means having multiple methods with the same name but different parameters.\n",
        "In many languages (like Java, C++), this is supported directly.\n",
        "But in Python, true method overloading doesn’t exist."
      ],
      "metadata": {
        "id": "vPFuks8-m7HM"
      }
    },
    {
      "cell_type": "markdown",
      "source": [
        "Q12. What is method overriding in OOP ?\n",
        "- Method overriding in OOP happens when a child class defines a method with the same name as a parent class method, but gives it a different implementation."
      ],
      "metadata": {
        "id": "f1e2bLk4nR_c"
      }
    },
    {
      "cell_type": "markdown",
      "source": [
        "Q13. What is a property decorator in Python ?\n",
        "- The @property decorator in Python allows method to be accessed as attribute.\n",
        "\n",
        "It makes code cleaner and more readable."
      ],
      "metadata": {
        "id": "IH64zhbXnecD"
      }
    },
    {
      "cell_type": "markdown",
      "source": [
        "Q14.  Why is polymorphism important in OOP ?\n",
        "- Polymorphism is important in OOP because it makes code flexible, reusable, and easier to maintain.\n",
        "we can call the same method on different objects, and each will act differently.we can add new classes without changing existing code."
      ],
      "metadata": {
        "id": "lwAvGwxYoEEa"
      }
    },
    {
      "cell_type": "markdown",
      "source": [
        "Q15. What is an abstract class in Python ?\n",
        "- An abstract class in Python is a class that cannot be instantiated directly and is meant to be a blueprint for other classes.\n",
        "\n",
        "It can have abstract methods (methods declared but not implemented).\n",
        "\n",
        "Child classes must implement those abstract methods.\n",
        "\n",
        "It is created using the abc module (ABC and @abstractmethod)."
      ],
      "metadata": {
        "id": "gzOndO6Yoinn"
      }
    },
    {
      "cell_type": "markdown",
      "source": [
        "Q16. What are the advantages of OOP ?\n",
        "- Modularity → Code is organized into classes/objects, making it easy to manage.\n",
        "\n",
        "Reusability → Inheritance allows using existing code in new classes.\n",
        "\n",
        "Flexibility → Polymorphism lets the same method work in different ways.\n",
        "\n",
        "Data Security → Encapsulation hides internal details and protects data.\n",
        "\n",
        "Maintainability → Code is easier to update, debug, and scale.\n",
        "\n",
        "Real-world modeling → Classes and objects map well to real-world entities.\n",
        "\n",
        "Extensibility → we can add new features without changing existing code much."
      ],
      "metadata": {
        "id": "dt5cjdmgpI0K"
      }
    },
    {
      "cell_type": "markdown",
      "source": [
        "Q17. What is the difference between a class variable and an instance variable ?\n",
        "- **Class Variable**\n",
        "\n",
        "Belongs to the class, shared by all objects.\n",
        "\n",
        "Defined outside methods, usually at the top inside the class.\n",
        "\n",
        "Changing it affects all objects (unless overridden).\n",
        "\n",
        "- **Instance Variable**\n",
        "\n",
        "Belongs to a specific object (instance).\n",
        "\n",
        "Defined inside __init__ using self.\n",
        "\n",
        "Each object has its own copy."
      ],
      "metadata": {
        "id": "IcAMMP2zpeLX"
      }
    },
    {
      "cell_type": "markdown",
      "source": [
        "Q18. What is multiple inheritance in Python ?\n",
        "- Multiple inheritance in Python means a class can inherit from more than one parent class at the same time.It lets us reuse features from multiple classes."
      ],
      "metadata": {
        "id": "cmE6vgdkp87m"
      }
    },
    {
      "cell_type": "markdown",
      "source": [
        "Q19. Explain the purpose of ’__str__’ and ‘__repr__’ ‘ methods in Python .\n",
        "- **__str__**\n",
        "\n",
        "Gives a readable, user-friendly string representation of the object.\n",
        "\n",
        "Used when you call print(obj) or str(obj).\n",
        "\n",
        "Goal: Make it easy for humans to understand.\n",
        "\n",
        "- **__repr__**\n",
        "\n",
        "Gives an official, unambiguous string representation of the object (mainly for developers).\n",
        "\n",
        "Used in interactive shells and when you call repr(obj).\n",
        "\n",
        "Goal: Usually something that could be used to recreate the object."
      ],
      "metadata": {
        "id": "tJ6DRjE8qRzB"
      }
    },
    {
      "cell_type": "markdown",
      "source": [
        "Q20. What is the significance of the ‘super()’ function in Python ?\n",
        "- The super() function in Python is used to call methods of a parent (base) class from a child (derived) class.\n",
        "\n",
        "\n",
        "\n",
        "Helps in reusing parent class code without rewriting it.\n",
        "\n",
        "Makes code cleaner and maintainable.\n",
        "\n",
        "Works well with multiple inheritance by following Python’s MRO (Method Resolution Order)."
      ],
      "metadata": {
        "id": "hYOGM-yBq0Nk"
      }
    },
    {
      "cell_type": "markdown",
      "source": [
        "Q21. What is the significance of the __del__ method in Python ?\n",
        "- **__del__ method**\n",
        "\n",
        "It is a destructor method in Python.\n",
        "\n",
        "Called automatically when an object is about to be destroyed (i.e., when it goes out of scope or memory is freed).\n",
        "\n",
        "To do cleanup work like closing files, releasing resources, or disconnecting from a database."
      ],
      "metadata": {
        "id": "D4smy9torNNj"
      }
    },
    {
      "cell_type": "markdown",
      "source": [
        "Q22. What is the difference between @staticmethod and @classmethod in Python ?\n",
        "- **@staticmethod**\n",
        "\n",
        "Does not take self or cls as the first parameter.\n",
        "\n",
        "Works like a normal function but lives inside the class’s namespace.\n",
        "\n",
        "Cannot access or modify class state or instance state directly.\n",
        "\n",
        "\n",
        "- **@classmethod**\n",
        "\n",
        "Takes cls as the first parameter.\n",
        "\n",
        "Can access and modify class variables.\n",
        "\n",
        "Used when you want a method that works on the class itself, not on a specific object."
      ],
      "metadata": {
        "id": "ggzvp15xsJdo"
      }
    },
    {
      "cell_type": "markdown",
      "source": [
        "Q23. How does polymorphism work in Python with inheritance ?\n",
        "- Polymorphism means same method name, different behavior depending on the object that calls it.\n",
        "\n",
        "\n",
        " In inheritance, a child class overrides a parent class method, but Python decides at runtime which version to use.\n",
        "\n",
        "\n",
        " Polymorphism lets the same method name work differently for different objects.\n",
        "\n",
        "In inheritance, the child class overrides the parent method.\n",
        "\n",
        "Python determines the correct method at runtime (dynamic polymorphism)."
      ],
      "metadata": {
        "id": "pSnBwDTjsavm"
      }
    },
    {
      "cell_type": "markdown",
      "source": [
        "Q24. What is method chaining in Python OOP ?\n",
        "- Method chaining means calling multiple methods on the same object in a single line.\n",
        "\n",
        "Achieved by having each method return self (the current object).\n",
        "\n",
        "Makes code shorter, cleaner, and more readable."
      ],
      "metadata": {
        "id": "b3Xi_daIs1tG"
      }
    },
    {
      "cell_type": "markdown",
      "source": [
        "Q25. What is the purpose of the __call__ method in Python ?\n",
        "- The __call__ method makes a class instance behave like a function.\n",
        "\n",
        "If a class defines __call__, you can “call” its objects using ().\n",
        "\n",
        "Useful for wrappers, decorators, function objects, and custom behaviors."
      ],
      "metadata": {
        "id": "7yPU0EoMtSPq"
      }
    },
    {
      "cell_type": "markdown",
      "source": [
        "**Practical Questions**"
      ],
      "metadata": {
        "id": "-WKb7fFEtfbZ"
      }
    },
    {
      "cell_type": "code",
      "source": [
        "'''Q1.  Create a parent class Animal with a method speak() that prints a generic message.\n",
        "Create a child class Dog that overrides the speak() method to print \"Bark!\".'''\n",
        "class Animal:\n",
        "  def speak(self):\n",
        "    print(\"Animal's sound\")\n",
        "\n",
        "class Dog(Animal):\n",
        "  def speak(self):\n",
        "    print(\"Bark!\")\n",
        "\n",
        "obj=Dog()\n",
        "obj.speak()"
      ],
      "metadata": {
        "colab": {
          "base_uri": "https://localhost:8080/"
        },
        "id": "whcQ6ig-PKgJ",
        "outputId": "d5c3228d-f6f7-48ec-b41b-d00af37ac741"
      },
      "execution_count": 2,
      "outputs": [
        {
          "output_type": "stream",
          "name": "stdout",
          "text": [
            "Bark!\n"
          ]
        }
      ]
    },
    {
      "cell_type": "code",
      "source": [
        "'''Q2. Write a program to create an abstract class Shape with a method area(). Derive classes Circle and Rectangle\n",
        "from it and implement the area() method in both.'''\n",
        "from abc import ABC, abstractmethod\n",
        "import math\n",
        "class shape(ABC):\n",
        "  @abstractmethod\n",
        "  def area(self):\n",
        "    pass\n",
        "class circle(shape):\n",
        "  def __init__(self, radius):\n",
        "    self.radius=radius\n",
        "  def area(self):\n",
        "    return math.pi * self.radius ** 2\n",
        "class rectangle(shape):\n",
        "  def __init__ (self,length, width):\n",
        "    self.length=length\n",
        "    self.width=width\n",
        "  def area(self):\n",
        "    return self.length * self.width\n",
        "\n",
        "obj1=circle(5)\n",
        "obj2=rectangle(4,6)\n",
        "\n",
        "print(obj1.area())\n",
        "\n",
        "print(obj2.area())"
      ],
      "metadata": {
        "colab": {
          "base_uri": "https://localhost:8080/"
        },
        "id": "-J2CZqlwQC1z",
        "outputId": "7698f367-e8c0-4d96-8b46-db8027da4dc7"
      },
      "execution_count": 10,
      "outputs": [
        {
          "output_type": "stream",
          "name": "stdout",
          "text": [
            "78.53981633974483\n",
            "24\n"
          ]
        }
      ]
    },
    {
      "cell_type": "code",
      "source": [
        "'''Q3.  Implement a multi-level inheritance scenario where a class Vehicle has an attribute type. Derive a class Car\n",
        "and further derive a class ElectricCar that adds a battery attribute.'''\n",
        "\n",
        "class Vehicle:\n",
        "    def __init__(self, vehicle_type):\n",
        "        self.vehicle_type = vehicle_type\n",
        "\n",
        "    def show_type(self):\n",
        "        print(f\"Vehicle type: {self.vehicle_type}\")\n",
        "\n",
        "\n",
        "\n",
        "class Car(Vehicle):\n",
        "    def __init__(self, vehicle_type, brand):\n",
        "        super().__init__(vehicle_type)\n",
        "        self.brand = brand\n",
        "\n",
        "    def show_brand(self):\n",
        "        print(f\"Car brand: {self.brand}\")\n",
        "\n",
        "\n",
        "\n",
        "class ElectricCar(Car):\n",
        "    def __init__(self, vehicle_type, brand, battery_capacity):\n",
        "        super().__init__(vehicle_type, brand)\n",
        "        self.battery = battery_capacity\n",
        "\n",
        "    def show_battery(self):\n",
        "        print(f\"Battery capacity: {self.battery} kWh\")\n",
        "\n",
        "\n",
        "\n",
        "ecar = ElectricCar(\"Electric\", \"Tesla\", 100)\n",
        "ecar.show_type()\n",
        "ecar.show_brand()\n",
        "ecar.show_battery()\n"
      ],
      "metadata": {
        "colab": {
          "base_uri": "https://localhost:8080/"
        },
        "id": "_2gYrfa0TuZ7",
        "outputId": "b7195633-1715-46f6-f770-a95b74509e5e"
      },
      "execution_count": 11,
      "outputs": [
        {
          "output_type": "stream",
          "name": "stdout",
          "text": [
            "Vehicle type: Electric\n",
            "Car brand: Tesla\n",
            "Battery capacity: 100 kWh\n"
          ]
        }
      ]
    },
    {
      "cell_type": "code",
      "source": [
        "'''Q4. Demonstrate polymorphism by creating a base class Bird with a method fly(). Create two derived classes\n",
        "Sparrow and Penguin that override the fly() method.'''\n",
        "\n",
        "class Bird:\n",
        "  def fly(self):\n",
        "    print(\"Birds can fly\")\n",
        "\n",
        "class Sparrow(Bird):\n",
        "  def fly(self):\n",
        "    print(\"Sparrow is a small bird and can also fly\")\n",
        "\n",
        "class Penguin(Bird):\n",
        "    def fly(self):\n",
        "        print(\"Penguin can not fly, but swims well.\")\n",
        "\n",
        "\n",
        "\n",
        "birds1=Sparrow()\n",
        "birds1.fly()\n",
        "\n",
        "birds2=Penguin()\n",
        "birds2.fly()\n"
      ],
      "metadata": {
        "colab": {
          "base_uri": "https://localhost:8080/"
        },
        "id": "ITN1wFt2hfOF",
        "outputId": "021691dc-135c-4ea7-a2a9-13dce043ca42"
      },
      "execution_count": 15,
      "outputs": [
        {
          "output_type": "stream",
          "name": "stdout",
          "text": [
            "Sparrow is a small bird and can also fly\n",
            "Penguin can not fly, but swims well.\n"
          ]
        }
      ]
    },
    {
      "cell_type": "code",
      "source": [
        "'''Q5. Write a program to demonstrate encapsulation by creating a class BankAccount with private attributes\n",
        "balance and methods to deposit, withdraw, and check balance.'''\n",
        "\n",
        "class BankAccount:\n",
        "    def __init__(self, initial_balance):\n",
        "        self.__balance = initial_balance\n",
        "\n",
        "\n",
        "    def deposit(self, amount):\n",
        "        if amount > 0:\n",
        "            self.__balance += amount\n",
        "            print(f\"Deposited: {amount}\")\n",
        "        else:\n",
        "            print(\"Deposit amount must be positive.\")\n",
        "\n",
        "\n",
        "    def withdraw(self, amount):\n",
        "        if 0 < amount <= self.__balance:\n",
        "            self.__balance -= amount\n",
        "            print(f\"Withdrawn: {amount}\")\n",
        "        else:\n",
        "            print(\"Insufficient balance or invalid amount.\")\n",
        "\n",
        "\n",
        "    def get_balance(self):\n",
        "        return self.__balance\n",
        "\n",
        "\n",
        "\n",
        "account = BankAccount(1000)\n",
        "print(\"Initial Balance:\", account.get_balance())\n",
        "\n",
        "account.deposit(500)\n",
        "account.withdraw(300)\n",
        "print(\"Final Balance:\", account.get_balance())\n",
        "\n"
      ],
      "metadata": {
        "colab": {
          "base_uri": "https://localhost:8080/"
        },
        "id": "TigMhxHxjIs8",
        "outputId": "39927e37-5427-46f9-cf82-3a0b40c9af79"
      },
      "execution_count": 16,
      "outputs": [
        {
          "output_type": "stream",
          "name": "stdout",
          "text": [
            "Initial Balance: 1000\n",
            "Deposited: 500\n",
            "Withdrawn: 300\n",
            "Final Balance: 1200\n"
          ]
        }
      ]
    },
    {
      "cell_type": "code",
      "source": [
        "'''Q6. Demonstrate runtime polymorphism using a method play() in a base class Instrument. Derive classes Guitar\n",
        "and Piano that implement their own version of play().'''\n",
        "\n",
        "class Instrument:\n",
        "    def play(self):\n",
        "        print(\"This instrument is being played.\")\n",
        "\n",
        "\n",
        "class Guitar(Instrument):\n",
        "    def play(self):\n",
        "        print(\"Guitar is strumming chords.\")\n",
        "\n",
        "\n",
        "class Piano(Instrument):\n",
        "    def play(self):\n",
        "        print(\"Piano is playing a melody.\")\n",
        "\n",
        "\n",
        "guitar = Guitar()\n",
        "piano = Piano()\n",
        "\n",
        "guitar.play()\n",
        "piano.play()\n"
      ],
      "metadata": {
        "colab": {
          "base_uri": "https://localhost:8080/"
        },
        "id": "UV3Tx1pQkElb",
        "outputId": "7c9f4b4f-bb45-480e-be72-a3aec944a470"
      },
      "execution_count": 17,
      "outputs": [
        {
          "output_type": "stream",
          "name": "stdout",
          "text": [
            "Guitar is strumming chords.\n",
            "Piano is playing a melody.\n"
          ]
        }
      ]
    },
    {
      "cell_type": "code",
      "source": [
        "'''Q7.  Create a class MathOperations with a class method add_numbers() to add two numbers and a static\n",
        "method subtract_numbers() to subtract two numbers.'''\n",
        "\n",
        "class MathOperations:\n",
        "    @classmethod\n",
        "    def add_numbers(cls, a, b):\n",
        "        return a + b\n",
        "\n",
        "\n",
        "    @staticmethod\n",
        "    def subtract_numbers(a, b):\n",
        "        return a - b\n",
        "\n",
        "\n",
        "sum_result = MathOperations.add_numbers(10, 5)\n",
        "print(\"Sum:\", sum_result)\n",
        "\n",
        "\n",
        "print(\"Difference:\", MathOperations.subtract_numbers(10, 5))\n",
        "\n"
      ],
      "metadata": {
        "colab": {
          "base_uri": "https://localhost:8080/"
        },
        "id": "oFDm1OjmlHtX",
        "outputId": "1ab6aecd-8a7f-4d84-9c79-741b737fe57c"
      },
      "execution_count": 20,
      "outputs": [
        {
          "output_type": "stream",
          "name": "stdout",
          "text": [
            "Sum: 15\n",
            "Difference: 5\n"
          ]
        }
      ]
    },
    {
      "cell_type": "code",
      "source": [
        "'''Q8.  Implement a class Person with a class method to count the total number of persons created.'''\n",
        "\n",
        "class Person:\n",
        "    total_persons = 0\n",
        "\n",
        "    def __init__(self, name):\n",
        "        self.name = name\n",
        "        Person.total_persons += 1\n",
        "\n",
        "\n",
        "    @classmethod\n",
        "    def get_total_persons(cls):\n",
        "        return cls.total_persons\n",
        "\n",
        "\n",
        "\n",
        "p1 = Person(\"Soumen\")\n",
        "p2 = Person(\"Ajay\")\n",
        "p3 = Person(\"Bijay\")\n",
        "\n",
        "print(\"Total persons created:\", Person.get_total_persons())\n"
      ],
      "metadata": {
        "colab": {
          "base_uri": "https://localhost:8080/"
        },
        "id": "m8JvEYdumA7N",
        "outputId": "2484ad27-ba12-445c-a270-cb1981c67830"
      },
      "execution_count": 22,
      "outputs": [
        {
          "output_type": "stream",
          "name": "stdout",
          "text": [
            "Total persons created: 3\n"
          ]
        }
      ]
    },
    {
      "cell_type": "code",
      "source": [
        "'''Q9. Write a class Fraction with attributes numerator and denominator. Override the str method to display the\n",
        "fraction as \"numerator/denominator\".'''\n",
        "\n",
        "class Fraction:\n",
        "    def __init__(self, numerator, denominator):\n",
        "        self.numerator = numerator\n",
        "        self.denominator = denominator\n",
        "\n",
        "\n",
        "    def __str__(self):\n",
        "        return f\"{self.numerator}/{self.denominator}\"\n",
        "\n",
        "\n",
        "\n",
        "f1 = Fraction(3, 4)\n",
        "f2 = Fraction(5, 2)\n",
        "\n",
        "print(f1)\n",
        "print(f2)\n"
      ],
      "metadata": {
        "colab": {
          "base_uri": "https://localhost:8080/"
        },
        "id": "-l-TJhrKmtpH",
        "outputId": "3c717421-9340-4315-ff75-69e5cedd72f7"
      },
      "execution_count": 23,
      "outputs": [
        {
          "output_type": "stream",
          "name": "stdout",
          "text": [
            "3/4\n",
            "5/2\n"
          ]
        }
      ]
    },
    {
      "cell_type": "code",
      "source": [
        "'''Q10. Demonstrate operator overloading by creating a class Vector and overriding the add method to add two\n",
        "vectors.'''\n",
        "\n",
        "class Vector:\n",
        "    def __init__(self, x, y):\n",
        "        self.x = x\n",
        "        self.y = y\n",
        "\n",
        "\n",
        "    def __add__(self, other):\n",
        "        return Vector(self.x + other.x, self.y + other.y)\n",
        "\n",
        "\n",
        "    def __str__(self):\n",
        "        return f\"({self.x}, {self.y})\"\n",
        "\n",
        "\n",
        "\n",
        "v1 = Vector(2, 3)\n",
        "v2 = Vector(4, 5)\n",
        "\n",
        "v3 = v1 + v2\n",
        "print(\"v1 + v2 =\", v3)\n"
      ],
      "metadata": {
        "colab": {
          "base_uri": "https://localhost:8080/"
        },
        "id": "j3MDDZHknfAP",
        "outputId": "ef410746-c65e-4170-ccc0-c84cd21cf6f2"
      },
      "execution_count": 24,
      "outputs": [
        {
          "output_type": "stream",
          "name": "stdout",
          "text": [
            "v1 + v2 = (6, 8)\n"
          ]
        }
      ]
    },
    {
      "cell_type": "code",
      "source": [
        "'''Q11. Create a class Person with attributes name and age. Add a method greet() that prints \"Hello, my name is\n",
        "{name} and I am {age} years old.\"'''\n",
        "\n",
        "class person:\n",
        "  def __init__(self,name,age):\n",
        "    self.name=name\n",
        "    self.age=age\n",
        "  def greet(self):\n",
        "    name=self.name\n",
        "    age=self.age\n",
        "    print(f\"My name is {name} and I am {age} years old\")\n",
        "\n",
        "\n",
        "obj_p=person(\"Soumen\",26)\n",
        "obj_p.greet()"
      ],
      "metadata": {
        "colab": {
          "base_uri": "https://localhost:8080/"
        },
        "id": "AR5QDGdmqWzk",
        "outputId": "c4f1f898-4953-4edf-aa50-c77d56815736"
      },
      "execution_count": 26,
      "outputs": [
        {
          "output_type": "stream",
          "name": "stdout",
          "text": [
            "My name is Soumen and I am 26 years old\n"
          ]
        }
      ]
    },
    {
      "cell_type": "code",
      "source": [
        "'''Q12.  Implement a class Student with attributes name and grades. Create a method average_grade() to compute\n",
        "the average of the grades.'''\n",
        "\n",
        "class Student:\n",
        "    def __init__(self, name, grades):\n",
        "        self.name = name\n",
        "        self.grades = grades\n",
        "\n",
        "\n",
        "    def average_grade(self):\n",
        "        return sum(self.grades) / len(self.grades)\n",
        "\n",
        "\n",
        "\n",
        "s1 = Student(\"Soumen\", [85, 90, 78, 92])\n",
        "s2 = Student(\"Somu\", [70, 80, 65])\n",
        "\n",
        "print(f\"{s1.name}'s average grade: {s1.average_grade():}\")\n",
        "print(f\"{s2.name}'s average grade: {s2.average_grade():}\")\n"
      ],
      "metadata": {
        "colab": {
          "base_uri": "https://localhost:8080/"
        },
        "id": "K45PCY6-uU8P",
        "outputId": "0b75adf8-7c59-4975-e5c5-e2a97772287f"
      },
      "execution_count": 3,
      "outputs": [
        {
          "output_type": "stream",
          "name": "stdout",
          "text": [
            "Soumen's average grade: 86.25\n",
            "Somu's average grade: 71.66666666666667\n"
          ]
        }
      ]
    },
    {
      "cell_type": "code",
      "source": [
        "'''Q13. Create a class Rectangle with methods set_dimensions() to set the dimensions and area() to calculate the\n",
        "area.'''\n",
        "\n",
        "class Rectangle:\n",
        "    def __init__(self):\n",
        "        self.length = 0\n",
        "        self.width = 0\n",
        "\n",
        "\n",
        "    def set_dimensions(self, length, width):\n",
        "        self.length = length\n",
        "        self.width = width\n",
        "\n",
        "    def area(self):\n",
        "        return self.length * self.width\n",
        "\n",
        "\n",
        "\n",
        "rect = Rectangle()\n",
        "rect.set_dimensions(5, 3)\n",
        "print(\"Area of rectangle:\", rect.area())\n"
      ],
      "metadata": {
        "colab": {
          "base_uri": "https://localhost:8080/"
        },
        "id": "1XxRPiuBPciZ",
        "outputId": "bd38cd94-60ab-4f9f-b16e-66923ad676df"
      },
      "execution_count": 4,
      "outputs": [
        {
          "output_type": "stream",
          "name": "stdout",
          "text": [
            "Area of rectangle: 15\n"
          ]
        }
      ]
    },
    {
      "cell_type": "code",
      "source": [
        "'''Q14. Create a class Employee with a method calculate_salary() that computes the salary based on hours worked\n",
        "and hourly rate. Create a derived class Manager that adds a bonus to the salary'''\n",
        "\n",
        "\n",
        "class Employee:\n",
        "    def __init__(self, name, hours_worked, hourly_rate):\n",
        "        self.name = name\n",
        "        self.hours_worked = hours_worked\n",
        "        self.hourly_rate = hourly_rate\n",
        "\n",
        "\n",
        "    def calculate_salary(self):\n",
        "        return self.hours_worked * self.hourly_rate\n",
        "\n",
        "\n",
        "\n",
        "class Manager(Employee):\n",
        "    def __init__(self, name, hours_worked, hourly_rate, bonus):\n",
        "        super().__init__(name, hours_worked, hourly_rate)\n",
        "        self.bonus = bonus\n",
        "\n",
        "\n",
        "    def calculate_salary(self):\n",
        "        base_salary = super().calculate_salary()\n",
        "        return base_salary + self.bonus\n",
        "\n",
        "\n",
        "\n",
        "emp = Employee(\"Soumen\", 40, 2000)\n",
        "mgr = Manager(\"Somu\", 40, 2000, 500)\n",
        "\n",
        "print(f\"{emp.name}'s salary: {emp.calculate_salary()}\")\n",
        "print(f\"{mgr.name}'s salary: {mgr.calculate_salary()}\")\n"
      ],
      "metadata": {
        "colab": {
          "base_uri": "https://localhost:8080/"
        },
        "id": "cjBM3xMkQhBf",
        "outputId": "4837b966-e307-4e07-b698-7e155801f6e9"
      },
      "execution_count": 8,
      "outputs": [
        {
          "output_type": "stream",
          "name": "stdout",
          "text": [
            "Soumen's salary: 80000\n",
            "Somu's salary: 80500\n"
          ]
        }
      ]
    },
    {
      "cell_type": "code",
      "source": [
        "'''Q15.  Create a class Product with attributes name, price, and quantity. Implement a method total_price() that\n",
        "calculates the total price of the product.'''\n",
        "\n",
        "class Product:\n",
        "    def __init__(self, name, price, quantity):\n",
        "        self.name = name\n",
        "        self.price = price\n",
        "        self.quantity = quantity\n",
        "\n",
        "\n",
        "    def total_price(self):\n",
        "        return self.price * self.quantity\n",
        "\n",
        "\n",
        "\n",
        "p1 = Product(\"Laptop\", 50000, 2)\n",
        "p2 = Product(\"Headphones\", 1500, 3)\n",
        "\n",
        "print(f\"Total price of {p1.name}: ₹{p1.total_price()}\")\n",
        "print(f\"Total price of {p2.name}: ₹{p2.total_price()}\")\n"
      ],
      "metadata": {
        "colab": {
          "base_uri": "https://localhost:8080/"
        },
        "id": "t43erEDRUMBk",
        "outputId": "dd73c368-3051-4da9-baf9-e8f4d4a82d05"
      },
      "execution_count": 10,
      "outputs": [
        {
          "output_type": "stream",
          "name": "stdout",
          "text": [
            "Total price of Laptop: ₹100000\n",
            "Total price of Headphones: ₹4500\n"
          ]
        }
      ]
    },
    {
      "cell_type": "code",
      "source": [
        "'''Q16. Create a class Animal with an abstract method sound(). Create two derived classes Cow and Sheep that\n",
        "implement the sound() method.'''\n",
        "\n",
        "from abc import ABC, abstractmethod\n",
        "\n",
        "class Animal(ABC):\n",
        "\n",
        "    @abstractmethod\n",
        "    def sound(self):\n",
        "        pass\n",
        "\n",
        "class Cow(Animal):\n",
        "    def sound(self):\n",
        "        return \"Moo\"\n",
        "\n",
        "class Sheep(Animal):\n",
        "    def sound(self):\n",
        "        return \"Baa\"\n",
        "\n",
        "\n",
        "\n",
        "cow = Cow()\n",
        "sheep = Sheep()\n",
        "\n",
        "print(\"Cow sound:\", cow.sound())\n",
        "print(\"Sheep sound:\", sheep.sound())\n"
      ],
      "metadata": {
        "colab": {
          "base_uri": "https://localhost:8080/"
        },
        "id": "VR3ezf8FZkpH",
        "outputId": "9c988f3c-b0e8-4bd9-94e1-25425e370fe1"
      },
      "execution_count": 11,
      "outputs": [
        {
          "output_type": "stream",
          "name": "stdout",
          "text": [
            "Cow sound: Moo\n",
            "Sheep sound: Baa\n"
          ]
        }
      ]
    },
    {
      "cell_type": "code",
      "source": [
        "'''Q17. Create a class Book with attributes title, author, and year_published. Add a method get_book_info() that\n",
        "returns a formatted string with the book's details.'''\n",
        "\n",
        "class Book:\n",
        "    def __init__(self, title, author, year_published):\n",
        "        self.title = title\n",
        "        self.author = author\n",
        "        self.year_published = year_published\n",
        "\n",
        "\n",
        "    def get_book_info(self):\n",
        "        return f\"'{self.title}' by {self.author}, published in {self.year_published}\"\n",
        "\n",
        "\n",
        "\n",
        "b1 = Book(\"To Kill a Mockingbird\", \"Harper Lee\", 1960)\n",
        "b2 = Book(\"1984\", \"George Orwell\", 1949)\n",
        "\n",
        "print(b1.get_book_info())\n",
        "print(b2.get_book_info())\n"
      ],
      "metadata": {
        "colab": {
          "base_uri": "https://localhost:8080/"
        },
        "id": "sMHcj0AwadeL",
        "outputId": "114c5120-ea7b-44ff-e3b1-46a44fa2a89e"
      },
      "execution_count": 12,
      "outputs": [
        {
          "output_type": "stream",
          "name": "stdout",
          "text": [
            "'To Kill a Mockingbird' by Harper Lee, published in 1960\n",
            "'1984' by George Orwell, published in 1949\n"
          ]
        }
      ]
    },
    {
      "cell_type": "code",
      "source": [
        "'''Q18. Create a class House with attributes address and price. Create a derived class Mansion that adds an\n",
        "attribute number_of_rooms.'''\n",
        "\n",
        "\n",
        "class House:\n",
        "    def __init__(self, address, price):\n",
        "        self.address = address\n",
        "        self.price = price\n",
        "\n",
        "    def get_info(self):\n",
        "        return f\"House located at {self.address}, priced at {self.price}\"\n",
        "\n",
        "\n",
        "\n",
        "class Mansion(House):\n",
        "    def __init__(self, address, price, number_of_rooms):\n",
        "        super().__init__(address, price)  # Call parent constructor\n",
        "        self.number_of_rooms = number_of_rooms\n",
        "\n",
        "    def get_info(self):\n",
        "        return (f\"Mansion located at {self.address}, priced at {self.price}, \"\n",
        "                f\"with {self.number_of_rooms} rooms\")\n",
        "\n",
        "\n",
        "\n",
        "house = House(\"123 Main St\", 250000)\n",
        "mansion = Mansion(\"456 Luxury Ave\", 2000000, 12)\n",
        "\n",
        "print(house.get_info())\n",
        "print(mansion.get_info())\n"
      ],
      "metadata": {
        "colab": {
          "base_uri": "https://localhost:8080/"
        },
        "id": "XJE0XsdiapzH",
        "outputId": "17602e85-2bd2-47e2-c19d-8dbc0e459460"
      },
      "execution_count": 14,
      "outputs": [
        {
          "output_type": "stream",
          "name": "stdout",
          "text": [
            "House located at 123 Main St, priced at 250000\n",
            "Mansion located at 456 Luxury Ave, priced at 2000000, with 12 rooms\n"
          ]
        }
      ]
    },
    {
      "cell_type": "code",
      "source": [],
      "metadata": {
        "id": "epONo5exbH67"
      },
      "execution_count": null,
      "outputs": []
    }
  ]
}